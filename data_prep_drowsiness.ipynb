{
 "cells": [
  {
   "cell_type": "code",
   "execution_count": 101,
   "metadata": {},
   "outputs": [],
   "source": [
    "import os\n",
    "import glob\n",
    "import shutil\n",
    "import random\n",
    "from tqdm import tqdm"
   ]
  },
  {
   "cell_type": "code",
   "execution_count": 188,
   "metadata": {},
   "outputs": [
    {
     "name": "stderr",
     "output_type": "stream",
     "text": [
      "0it [00:00, ?it/s]\n",
      "100%|██████████| 681/681 [00:00<00:00, 4410.82it/s]\n",
      "100%|██████████| 522/522 [00:00<00:00, 8472.42it/s]\n",
      "100%|██████████| 832/832 [00:00<00:00, 8811.01it/s]\n",
      "100%|██████████| 1012/1012 [00:00<00:00, 8771.09it/s]\n",
      "100%|██████████| 399/399 [00:00<00:00, 8792.40it/s]\n",
      "100%|██████████| 642/642 [00:00<00:00, 8250.69it/s]\n",
      "100%|██████████| 739/739 [00:00<00:00, 8342.71it/s]\n",
      "100%|██████████| 1502/1502 [00:00<00:00, 8958.80it/s]\n",
      "100%|██████████| 6162/6162 [00:00<00:00, 9419.89it/s]\n",
      "100%|██████████| 679/679 [00:00<00:00, 9724.78it/s]\n",
      "100%|██████████| 704/704 [00:00<00:00, 9741.87it/s]\n",
      "100%|██████████| 3605/3605 [00:00<00:00, 10684.54it/s]\n",
      "100%|██████████| 1132/1132 [00:00<00:00, 8892.96it/s]\n",
      "100%|██████████| 6193/6193 [00:00<00:00, 10462.25it/s]\n",
      "100%|██████████| 1648/1648 [00:00<00:00, 9650.56it/s]\n",
      "100%|██████████| 1889/1889 [00:00<00:00, 10162.73it/s]\n",
      "100%|██████████| 736/736 [00:00<00:00, 8835.60it/s]\n",
      "100%|██████████| 10257/10257 [00:00<00:00, 10749.15it/s]\n",
      "100%|██████████| 1393/1393 [00:00<00:00, 10503.37it/s]\n",
      "100%|██████████| 387/387 [00:00<00:00, 9200.54it/s]\n",
      "100%|██████████| 752/752 [00:00<00:00, 9720.89it/s]\n",
      "100%|██████████| 1648/1648 [00:00<00:00, 9772.56it/s]\n",
      "100%|██████████| 1738/1738 [00:00<00:00, 10151.10it/s]\n",
      "100%|██████████| 8884/8884 [00:00<00:00, 9666.05it/s] \n",
      "100%|██████████| 1069/1069 [00:00<00:00, 9814.00it/s]\n",
      "100%|██████████| 6175/6175 [00:00<00:00, 11150.91it/s]\n",
      "100%|██████████| 1246/1246 [00:00<00:00, 10268.82it/s]\n",
      "100%|██████████| 1114/1114 [00:00<00:00, 10074.92it/s]\n",
      "100%|██████████| 382/382 [00:00<00:00, 9435.12it/s]\n",
      "100%|██████████| 4410/4410 [00:00<00:00, 7597.76it/s]\n",
      "100%|██████████| 3242/3242 [00:00<00:00, 10454.48it/s]\n",
      "100%|██████████| 8728/8728 [00:00<00:00, 8991.67it/s] \n",
      "100%|██████████| 736/736 [00:00<00:00, 9510.95it/s]\n",
      "100%|██████████| 665/665 [00:00<00:00, 9217.55it/s]\n",
      "100%|██████████| 987/987 [00:00<00:00, 9365.78it/s]\n",
      "100%|██████████| 1384/1384 [00:00<00:00, 9961.59it/s]\n",
      "100%|██████████| 624/624 [00:00<00:00, 10087.32it/s]\n"
     ]
    }
   ],
   "source": [
    "raw_data = '/home/delixus/Desktop/drowsiness_detection/mrlEyes_2018_01'\n",
    "for dirpath, dirname, filename in os.walk(raw_data):\n",
    "    for file in tqdm([f for f in filename if f.endswith('.png')]):\n",
    "        if file.split('_')[4] == '0':\n",
    "            path='/home/delixus/Desktop/drowsiness_detection/data/train/closed'\n",
    "            if not os.path.exists(path):\n",
    "                os.makedirs(path)\n",
    "            shutil.copy(src=dirpath + '/' + file, dst= path)\n",
    "        elif file.split('_')[4] == '1':\n",
    "            path='/home/delixus/Desktop/drowsiness_detection/data/train/open'\n",
    "            if not os.path.exists(path):\n",
    "                os.makedirs(path)\n",
    "            shutil.copy(src=dirpath + '/' + file, dst= path)        "
   ]
  },
  {
   "cell_type": "code",
   "execution_count": 189,
   "metadata": {},
   "outputs": [
    {
     "name": "stdout",
     "output_type": "stream",
     "text": [
      "closed eyes: 41946\n"
     ]
    }
   ],
   "source": [
    "closed_eyes = '/home/delixus/Desktop/drowsiness_detection/data/train/closed'\n",
    "path, dirs, files_closed = next(os.walk(closed_eyes))\n",
    "file_count_closed = len(files_closed)\n",
    "print(f'closed eyes: {file_count_closed}')"
   ]
  },
  {
   "cell_type": "code",
   "execution_count": 190,
   "metadata": {},
   "outputs": [
    {
     "name": "stdout",
     "output_type": "stream",
     "text": [
      "opened eyes: 42952\n"
     ]
    }
   ],
   "source": [
    "open_eyes = '/home/delixus/Desktop/drowsiness_detection/data/train/open'\n",
    "path, dirs, files_opened = next(os.walk(open_eyes))\n",
    "file_count_opened = len(files_opened)\n",
    "print(f'opened eyes: {file_count_opened}')"
   ]
  },
  {
   "cell_type": "code",
   "execution_count": 191,
   "metadata": {},
   "outputs": [],
   "source": [
    "def create_test_closed(source, destination, percent):\n",
    "    '''\n",
    "    divides closed eyes images into given percent and moves from\n",
    "    source to destination.\n",
    "    \n",
    "    Arguments:\n",
    "    source(path): path of source directory\n",
    "    destination(path): path of destination directory\n",
    "    percent(float): percent of data to be divided(range: 0 to 1)\n",
    "    '''\n",
    "    path, dirs, files_closed = next(os.walk(source))\n",
    "    file_count_closed = len(files_closed)\n",
    "    percentage = file_count_closed * percent\n",
    "    to_move = random.sample(glob.glob(source + \"/*.png\"), int(percentage))\n",
    "\n",
    "    for f in enumerate(to_move):\n",
    "        if not os.path.exists(destination):\n",
    "            os.makedirs(destination)\n",
    "        shutil.move(f[1], destination)\n",
    "    print(f'moved {int(percentage)} images to the destination successfully.')    "
   ]
  },
  {
   "cell_type": "code",
   "execution_count": 192,
   "metadata": {},
   "outputs": [],
   "source": [
    "def create_test_open(source, destination, percent):\n",
    "    '''\n",
    "    divides open eyes images into given percent and moves from\n",
    "    source to destination.\n",
    "    \n",
    "    Arguments:\n",
    "    source(path): path of source directory\n",
    "    destination(path): path of destination directory\n",
    "    percent(float): percent of data to be divided(range: 0 to 1)\n",
    "    '''\n",
    "    path, dirs, files_open = next(os.walk(source))\n",
    "    file_count_open = len(files_open)\n",
    "    percentage = file_count_open * percent\n",
    "    to_move = random.sample(glob.glob(source + \"/*.png\"), int(percentage))\n",
    "\n",
    "    for f in enumerate(to_move):\n",
    "        if not os.path.exists(destination):\n",
    "            os.makedirs(destination)\n",
    "        shutil.move(f[1], destination)\n",
    "    print(f'moved {int(percentage)} images to the destination successfully.')"
   ]
  },
  {
   "cell_type": "code",
   "execution_count": 193,
   "metadata": {},
   "outputs": [
    {
     "name": "stdout",
     "output_type": "stream",
     "text": [
      "moved 41 images to the destination successfully.\n"
     ]
    }
   ],
   "source": [
    "create_test_closed('/home/delixus/Desktop/drowsiness_detection/data/train/closed', \n",
    "                    '/home/delixus/Desktop/drowsiness_detection/data/test/closed', \n",
    "                    0.001)"
   ]
  },
  {
   "cell_type": "code",
   "execution_count": 194,
   "metadata": {},
   "outputs": [
    {
     "name": "stdout",
     "output_type": "stream",
     "text": [
      "moved 42 images to the destination successfully.\n"
     ]
    }
   ],
   "source": [
    "create_test_open('/home/delixus/Desktop/drowsiness_detection/data/train/open', \n",
    "                    '/home/delixus/Desktop/drowsiness_detection/data/test/open', \n",
    "                    0.001)"
   ]
  },
  {
   "cell_type": "code",
   "execution_count": null,
   "metadata": {},
   "outputs": [],
   "source": []
  }
 ],
 "metadata": {
  "kernelspec": {
   "display_name": "Python 3",
   "language": "python",
   "name": "python3"
  },
  "language_info": {
   "codemirror_mode": {
    "name": "ipython",
    "version": 3
   },
   "file_extension": ".py",
   "mimetype": "text/x-python",
   "name": "python",
   "nbconvert_exporter": "python",
   "pygments_lexer": "ipython3",
   "version": "3.6.9"
  }
 },
 "nbformat": 4,
 "nbformat_minor": 4
}
